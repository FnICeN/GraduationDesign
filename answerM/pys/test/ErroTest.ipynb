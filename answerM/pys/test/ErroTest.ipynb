{
 "cells": [
  {
   "cell_type": "code",
   "execution_count": null,
   "metadata": {},
   "outputs": [],
   "source": [
    "from gensim.models import word2vec\n",
    "from gensim.models.word2vec import LineSentence"
   ]
  },
  {
   "cell_type": "code",
   "execution_count": null,
   "metadata": {},
   "outputs": [],
   "source": [
    "data = [[\"注册\", \"新\", \"账户\"], [\"更改\", \"订单\"], [\"不\", \"登录\", \"情况\", \"浏览\", \"商品\"]]"
   ]
  },
  {
   "cell_type": "code",
   "execution_count": null,
   "metadata": {},
   "outputs": [],
   "source": [
    "model = word2vec.Word2Vec(data, sg=0, vector_size=20, window=3, min_count=1, workers=8)\n",
    "model.save('D:/GraduationDesign/answerM/models/aaaa.model')"
   ]
  },
  {
   "cell_type": "code",
   "execution_count": null,
   "metadata": {},
   "outputs": [],
   "source": [
    "with open(\"D:/GraduationDesign/语料库/bbbb.txt\", \"w\", encoding=\"utf-8\") as f:\n",
    "    for q in data:\n",
    "        f.write(\" \".join(q) + \"\\n\")\n",
    "model = word2vec.Word2Vec(LineSentence(\"D:/GraduationDesign/语料库/bbbb.txt\"), sg=0, vector_size=20, window=3, min_count=1, workers=8)\n",
    "model.save('D:/GraduationDesign/answerM/models/bbbb.model')"
   ]
  },
  {
   "cell_type": "code",
   "execution_count": null,
   "metadata": {},
   "outputs": [],
   "source": [
    "modela = word2vec.Word2Vec.load('D:/GraduationDesign/answerM/models/aaaa.model')\n",
    "modelb = word2vec.Word2Vec.load('D:/GraduationDesign/answerM/models/bbbb.model')\n",
    "# 判断两个模型取到的词向量是否相同\n",
    "print(modela.wv[\"注册\"] == modelb.wv[\"注册\"])\n",
    "print(modela.wv[\"新\"] == modelb.wv[\"新\"])\n",
    "print(modela.wv[\"账户\"] == modelb.wv[\"账户\"])"
   ]
  },
  {
   "cell_type": "code",
   "execution_count": null,
   "metadata": {},
   "outputs": [],
   "source": []
  }
 ],
 "metadata": {
  "kernelspec": {
   "display_name": "GD",
   "language": "python",
   "name": "python3"
  },
  "language_info": {
   "codemirror_mode": {
    "name": "ipython",
    "version": 3
   },
   "file_extension": ".py",
   "mimetype": "text/x-python",
   "name": "python",
   "nbconvert_exporter": "python",
   "pygments_lexer": "ipython3",
   "version": "3.8.19"
  }
 },
 "nbformat": 4,
 "nbformat_minor": 2
}
