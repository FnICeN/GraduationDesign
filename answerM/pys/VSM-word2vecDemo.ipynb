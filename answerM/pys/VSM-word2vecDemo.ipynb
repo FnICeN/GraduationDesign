{
 "cells": [
  {
   "cell_type": "code",
   "execution_count": 15,
   "metadata": {},
   "outputs": [],
   "source": [
    "import jieba\n",
    "import pandas as pd\n",
    "import numpy as np\n",
    "from gensim.models import word2vec\n",
    "from gensim.models.word2vec import LineSentence\n",
    "path = \"D:\""
   ]
  },
  {
   "cell_type": "code",
   "execution_count": 16,
   "metadata": {},
   "outputs": [],
   "source": [
    "# 获取停用词\n",
    "stop_words = pd.read_csv(path + \"\\\\GraduationDesign\\\\语料库\\\\stopwords.dat\", delimiter=\"\\t\", header=None, quoting=3, encoding='utf-8')\n",
    "stop_words = stop_words[0].tolist()"
   ]
  },
  {
   "cell_type": "code",
   "execution_count": 17,
   "metadata": {},
   "outputs": [],
   "source": [
    "df = pd.read_csv(path + \"\\\\GraduationDesign\\\\语料库\\\\客服语料\\\\整理后\\\\1.csv\")\n",
    "q_list = []\n",
    "for doc in df.iloc[:,0]:\n",
    "    q_list.append([word for word in jieba.cut(doc) if word not in stop_words and word !=' '])\n",
    "with open(path + \"\\\\GraduationDesign\\\\语料库\\\\vecDemo.txt\", \"w\", encoding=\"utf-8\") as f:\n",
    "    for q in q_list:\n",
    "        f.write(\" \".join(q) + \"\\n\")"
   ]
  },
  {
   "cell_type": "code",
   "execution_count": 18,
   "metadata": {},
   "outputs": [],
   "source": [
    "model = word2vec.Word2Vec(LineSentence(path + \"\\\\GraduationDesign\\\\语料库\\\\vecDemo.txt\"), sg=0, vector_size=200, window=3, min_count=1, workers=8)\n",
    "\n",
    "model.save(path + '\\\\GraduationDesign\\\\answerM\\\\models\\\\word2vec.model')"
   ]
  },
  {
   "cell_type": "code",
   "execution_count": 19,
   "metadata": {},
   "outputs": [
    {
     "name": "stdout",
     "output_type": "stream",
     "text": [
      "['订单', '商品', '想', '产品', '账户', '取消', '查询', '收到', '购买', '退货', '更改', '密码', '请问', '信息', '支付', '我该', '质量', '操作', '退款', '忘记', '网站', '付款', '做', '地址', '客服', '锁定', '状态', '配送', '发货', '修改', '优惠券', '想要', '损坏', '解决', '方式', '不', '送达', '时', '下单', '找到', '不符', '提供', '登录', '退换货', '申请', '查看', '未', '包裹', '情况', '描述', '公司', '政策', '支持', '时间', '物流', '成功', '我要', '缺货', '咨询', '显示', '详细信息', '余额', '发现', '失败', '解锁', '注册', '优惠', '中', '收货', '码', '多久', '账号', '丢失', '售后服务', '提交', '库存', '有没有', '查找', '过程', '优惠活动', '人员', '一件', '个人资料', '账', '到达', '错误', '确认', '积分', '瑕疵', '被盗', '运输', '获取', '告诉', '满意', '服务', '保修期', '投诉', '拒绝', '货', '符合', '到货', '活动', '缺陷', '保修', '历史记录', '会员', '促销', '技术支持', '邮件', '刚刚', '发票', '送货', '怎么回事', '商品质量', '找回', '重置', '新', '适合', '商品价格', '差价', '原因', '快递', '费用', '功能', '价格', '有误', '礼品', '退换', '运费', '详细', '国际', '参数', '选择', '请求', '寻求', '产品质量', '账号密码', '购物', '送到', '小心', '免费', '团队', '删除', '客户服务', '流程', '特定', '发生', '更新', '卡', '维修', '信用卡', '账单', '故障', '找', '多长时间', '变动', '怎样才能', '某款', '您好', '货到付款', '相关', '不到', '订购', '电子邮件', '个人信息', '代码', '反馈', '尺码', '帮', '贵', '没收', '保修期限', '更换', '参数信息', '尺寸', '多种', '代表', '超过', '颜色', '选', '疑问', '评价', '规格', '额外', '交易', '记录', '预定', '退还', '某位', '支付宝', '延迟', 'VIP', '填写', '意见', '尚未', '消失', '询问', '退', '建议', '补齐', '恢复', '预计', '交货', '日期', '金额', '产品价格', '希望', '换货', '查阅', '破损', '营业时间', '货物', '喜欢', '超时', '工作', '充值', '签收', '回复', '做些', '供选择', '迟迟', '降低', '设置', '过期', 'X', '兑换', '期限', '详情', '打折', '补货', '保证', '可用', '结账', '衣服', '订阅', '解释一下', '上个月', '错过', '改为', '标准', '时效', '电话号码', '评论', '邮件地址', '跟踪', '某项', '国际标准', '预期', '打开', '是因为', '网络', '商品信息', '分期付款', '逾期', '发送', '帐单', '平常', '好处', '感到', '我用', '寻找', '是非', '本国货币', '全额', '付出', '返回', '不会', '一步', 'XX', '问', '手续费', '取得联系', '意味着', '渠道', '查', '期望', '分享', '待处理', '微信', '使用手册', '发现错误', '返利', '不好', '用户', '购物车', '浏览', '补开', '内容', '技术', '家', '这是', '购买过程', '资料', '困难', '价格比', '平台', '高', '享受', '材料', '用户名', '参加', '资格', '结算', '货币', '会到', '处理结果', '帮忙', '广告', '手机', '访问', 'APP', '扣款', '体验', '包括', '试用期', '特性', '提出', '应用程序', '合适', '客户', '无效', '婴幼儿', '推荐', '实体店', '几天', '在线', '优惠政策', '批量', '计划', '方法', '不佳', '需求', '证明', '产品规格', '税费', '付', '检查', '合作伙伴', '产品描述', '刷', '态度', '影响', '产品线', '增加', '方案', '现金支付', '检测', '发送给', '选项', '激活', '答案', '不足以', '成立', '延期', '得知', '电子产品', '很差', '服务态度', '邮寄', '儿童', '行程', '店面', '历史背景', '扣', '这家', '折扣', '里', '下架', '还会', '进货', '降价', '买', '钱', '这件', '材质', '做出', '订单号', '用户手册', '包含', '缺失', '等级', '升级', '多长', '计算', '客服部', '门', '看中', '泄露', '常见问题', '列表', '处于', '变化', '名', '上架', '自提', '最新', '售后', '交货期', '补偿', '解除', '声明', '预约', '有无', '禁用', '解禁', '疑虑', '客观', '采购', '优势', '款', '三个', '自动', '月', '电费', '用于', '时有', '解决办法', '简单', '介绍', '规则', '具体内容', '少发']\n",
      "422\n"
     ]
    }
   ],
   "source": [
    "model = word2vec.Word2Vec.load(path + '\\\\GraduationDesign\\\\answerM\\\\models\\\\word2vec.model')\n",
    "dic = model.wv.index_to_key\n",
    "print(dic)\n",
    "print(len(dic))\n"
   ]
  },
  {
   "cell_type": "code",
   "execution_count": 20,
   "metadata": {},
   "outputs": [],
   "source": [
    "# 计算备选问题向量\n",
    "doc_dict = {}\n",
    "for i, doc in enumerate(q_list):\n",
    "    doc_vec = []\n",
    "    for word in doc:\n",
    "        if word in dic:\n",
    "            doc_vec.append(model.wv[word])\n",
    "    doc_vec = np.mean(doc_vec, axis=0)\n",
    "    doc_dict[i] = doc_vec"
   ]
  },
  {
   "cell_type": "code",
   "execution_count": 21,
   "metadata": {},
   "outputs": [],
   "source": [
    "# 计算问题向量\n",
    "question = \"怎么注册新帐号啊？\"\n",
    "question = [word for word in jieba.cut(question) if word not in stop_words and word !=' ']\n",
    "q_vec = []\n",
    "for word in question:\n",
    "    if word in dic:\n",
    "        q_vec.append(model.wv[word])\n",
    "q_vec = np.mean(q_vec, axis=0)"
   ]
  },
  {
   "cell_type": "code",
   "execution_count": 22,
   "metadata": {},
   "outputs": [
    {
     "name": "stdout",
     "output_type": "stream",
     "text": [
      "匹配到问题： 我是新用户，如何注册？\n",
      "回答：非常感谢您选择我们的服务！您可以通过我们的网站或应用程序进行注册。请填写必要的信息并创建账户即可完成注册。\n"
     ]
    }
   ],
   "source": [
    "prob_ans = model.wv.cosine_similarities(q_vec, [doc_dict[i] for i in range(len(q_list))])\n",
    "# 选出前三个最相似的问题\n",
    "prob_ans = np.argsort(prob_ans)[-3:]\n",
    "all_answer = df.iloc[:,1]\n",
    "print(\"匹配到问题：\", df.iloc[prob_ans[0],0])\n",
    "print(\"回答：\" + all_answer[prob_ans[0]])"
   ]
  }
 ],
 "metadata": {
  "kernelspec": {
   "display_name": "GD",
   "language": "python",
   "name": "python3"
  },
  "language_info": {
   "codemirror_mode": {
    "name": "ipython",
    "version": 3
   },
   "file_extension": ".py",
   "mimetype": "text/x-python",
   "name": "python",
   "nbconvert_exporter": "python",
   "pygments_lexer": "ipython3",
   "version": "3.8.19"
  }
 },
 "nbformat": 4,
 "nbformat_minor": 2
}
