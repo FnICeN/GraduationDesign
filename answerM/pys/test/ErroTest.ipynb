{
 "cells": [
  {
   "cell_type": "code",
   "execution_count": 4,
   "metadata": {},
   "outputs": [],
   "source": [
    "import json"
   ]
  },
  {
   "cell_type": "code",
   "execution_count": 14,
   "metadata": {},
   "outputs": [
    {
     "name": "stdout",
     "output_type": "stream",
     "text": [
      "订单号123456是手机，价格１ﾙﾙﾙ元，已发货\n"
     ]
    }
   ],
   "source": [
    "p = \"\\u8ba2\\u5355\\u53f7123456\\u662f\\u624b\\u673a\\uff0c\\u4ef7\\u683c\\uff11\\uff99\\uff99\\uff99\\u5143\\uff0c\\u5df2\\u53d1\\u8d27\"\n",
    "s = \"您的订单号123456是手机，价格为1999元，状态为已发货\"\n",
    "# p解码\n",
    "print(json.loads('\"' + p + '\"'))\n"
   ]
  },
  {
   "cell_type": "code",
   "execution_count": 15,
   "metadata": {},
   "outputs": [
    {
     "data": {
      "text/plain": [
       "'{\"question\": \"\\\\u4f60\\\\u597d\", \"orders\": \"\\\\u4f60\"}'"
      ]
     },
     "execution_count": 15,
     "metadata": {},
     "output_type": "execute_result"
    }
   ],
   "source": [
    "a = {\"question\": \"你好\",\"orders\": \"你\"}\n",
    "json.dumps(a)"
   ]
  }
 ],
 "metadata": {
  "kernelspec": {
   "display_name": "GD",
   "language": "python",
   "name": "python3"
  },
  "language_info": {
   "codemirror_mode": {
    "name": "ipython",
    "version": 3
   },
   "file_extension": ".py",
   "mimetype": "text/x-python",
   "name": "python",
   "nbconvert_exporter": "python",
   "pygments_lexer": "ipython3",
   "version": "3.8.19"
  }
 },
 "nbformat": 4,
 "nbformat_minor": 2
}
